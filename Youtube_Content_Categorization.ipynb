{
  "nbformat": 4,
  "nbformat_minor": 0,
  "metadata": {
    "colab": {
      "provenance": [],
      "include_colab_link": true
    },
    "kernelspec": {
      "name": "python3",
      "display_name": "Python 3"
    },
    "language_info": {
      "name": "python"
    }
  },
  "cells": [
    {
      "cell_type": "markdown",
      "metadata": {
        "id": "view-in-github",
        "colab_type": "text"
      },
      "source": [
        "<a href=\"https://colab.research.google.com/github/Haarinaath-Y/YouTube-Content-Categorization/blob/main/Youtube_Content_Categorization.ipynb\" target=\"_parent\"><img src=\"https://colab.research.google.com/assets/colab-badge.svg\" alt=\"Open In Colab\"/></a>"
      ]
    },
    {
      "cell_type": "markdown",
      "source": [
        "# Youtube Content Categorization"
      ],
      "metadata": {
        "id": "DNcFFeTtgP-N"
      }
    },
    {
      "cell_type": "markdown",
      "source": [
        "## Init Job"
      ],
      "metadata": {
        "id": "B6xVZQ9zeiF2"
      }
    },
    {
      "cell_type": "code",
      "source": [
        "!apt-get install openjdk-8-jdk-headless -qq > /dev/null\n",
        "!wget https://dlcdn.apache.org/spark/spark-3.4.2/spark-3.4.2-bin-hadoop3.tgz\n",
        "!tar -xvf spark-3.4.2-bin-hadoop3.tgz\n",
        "!pip install -q findspark\n",
        "import os\n",
        "os.environ[\"JAVA_HOME\"] = \"/usr/lib/jvm/java-8-openjdk-amd64\"\n",
        "os.environ[\"SPARK_HOME\"] = \"/content/spark-3.4.2-bin-hadoop3\"\n",
        "import findspark\n",
        "findspark.init()"
      ],
      "metadata": {
        "id": "eR1OwHWReeZm"
      },
      "execution_count": null,
      "outputs": []
    },
    {
      "cell_type": "markdown",
      "source": [
        "Import Libraries"
      ],
      "metadata": {
        "id": "ClKVAmAqezC1"
      }
    },
    {
      "cell_type": "code",
      "source": [
        "import pyspark\n",
        "from pyspark.sql import SparkSession\n",
        "from pyspark.sql.functions import *\n",
        "from pyspark.sql.types import IntegerType,FloatType,DoubleType,DateType"
      ],
      "metadata": {
        "id": "WCb112xyexSm"
      },
      "execution_count": 64,
      "outputs": []
    },
    {
      "cell_type": "markdown",
      "source": [
        "Loading Source Data from Git Repo"
      ],
      "metadata": {
        "id": "6zdtfOnQgayL"
      }
    },
    {
      "cell_type": "code",
      "source": [
        "!wget https://raw.githubusercontent.com/Haarinaath-Y/YouTube-Content-Categorization/main/Age.csv\n",
        "!wget https://raw.githubusercontent.com/Haarinaath-Y/YouTube-Content-Categorization/main/Country.csv\n",
        "!wget https://raw.githubusercontent.com/Haarinaath-Y/YouTube-Content-Categorization/main/Gender.csv\n",
        "!wget https://raw.githubusercontent.com/Haarinaath-Y/YouTube-Content-Categorization/main/Person.csv\n",
        "!wget https://raw.githubusercontent.com/Haarinaath-Y/YouTube-Content-Categorization/main/YTCat.csv\n",
        "!wget https://raw.githubusercontent.com/Haarinaath-Y/YouTube-Content-Categorization/main/YTCon.csv"
      ],
      "metadata": {
        "id": "9IcMdBU8e5BU"
      },
      "execution_count": null,
      "outputs": []
    },
    {
      "cell_type": "markdown",
      "source": [
        "Starting the Spark Session"
      ],
      "metadata": {
        "id": "6be13nbBgjwb"
      }
    },
    {
      "cell_type": "code",
      "execution_count": 123,
      "metadata": {
        "id": "CvwTQTNAPwz2"
      },
      "outputs": [],
      "source": [
        "spark = SparkSession.builder.master(\"local[*]\").getOrCreate()"
      ]
    },
    {
      "cell_type": "markdown",
      "source": [
        "Creating Dataframes from Source Data"
      ],
      "metadata": {
        "id": "OPrW1Sp_ggcL"
      }
    },
    {
      "cell_type": "code",
      "source": [
        "df_country = spark.read.csv(\"Country.csv\",header=True,inferSchema=True)\n",
        "df_country.show()"
      ],
      "metadata": {
        "colab": {
          "base_uri": "https://localhost:8080/"
        },
        "id": "jpbPkKKgUSy1",
        "outputId": "25ba9d86-0aba-43ac-d5b1-da8b56c4cec4"
      },
      "execution_count": 124,
      "outputs": [
        {
          "output_type": "stream",
          "name": "stdout",
          "text": [
            "+----------+------------+------------+---------------+\n",
            "|Country_ID|Country_code|COUNTRY_NAME|Telephonic_code|\n",
            "+----------+------------+------------+---------------+\n",
            "|         1|         IND|       India|             91|\n",
            "|         2|         USA|         USA|              1|\n",
            "|         3|         DEU|     Germany|             49|\n",
            "|         4|         NPL|       Nepal|            977|\n",
            "|         5|         LKA|   Sri Lanka|             94|\n",
            "+----------+------------+------------+---------------+\n",
            "\n"
          ]
        }
      ]
    },
    {
      "cell_type": "code",
      "source": [
        "df_ytcat = spark.read.csv(\"YTCat.csv\",header=True,inferSchema=True)\n",
        "df_ytcat.show()"
      ],
      "metadata": {
        "colab": {
          "base_uri": "https://localhost:8080/"
        },
        "id": "1oX-m6mqUlKA",
        "outputId": "391761e0-70de-412b-a683-561c832f4f87"
      },
      "execution_count": 125,
      "outputs": [
        {
          "output_type": "stream",
          "name": "stdout",
          "text": [
            "+--------------+--------------------+--------------------+\n",
            "|Discription_ID|       Category_Name|       Category_Dsc |\n",
            "+--------------+--------------------+--------------------+\n",
            "|             1|                News|Information about...|\n",
            "|             2|              Sports|Athletic activity...|\n",
            "|             3|                Kids|A form of activit...|\n",
            "|             4|      Entertainment |A form of activit...|\n",
            "|             5|  Fashion and Beauty|The style or styl...|\n",
            "|             6|Funny Animals and...|Hilarious movemen...|\n",
            "|             7|            Gameplay|Live streaming of...|\n",
            "|             8|      Product Review|Unboxing of produ...|\n",
            "|             9|               Vlogs|A type of content...|\n",
            "|            10|           Education|Discipline that i...|\n",
            "+--------------+--------------------+--------------------+\n",
            "\n"
          ]
        }
      ]
    },
    {
      "cell_type": "code",
      "source": [
        "df_ytcon = spark.read.csv(\"YTCon.csv\",header=True,inferSchema=True)\n",
        "df_ytcon.show()"
      ],
      "metadata": {
        "id": "57vvgHMQfekZ",
        "colab": {
          "base_uri": "https://localhost:8080/"
        },
        "outputId": "d091228a-acaa-4bb2-92bc-81d588763659"
      },
      "execution_count": 126,
      "outputs": [
        {
          "output_type": "stream",
          "name": "stdout",
          "text": [
            "+--------+--------------------+--------------------+---------+-------+------------+-----------+---------+-------+--------+\n",
            "|Video_id|         Video_title|          Video_Tags|Person_ID|Min_age|Publish_date|Category_id|    Views|  Likes|Dislikes|\n",
            "+--------+--------------------+--------------------+---------+-------+------------+-----------+---------+-------+--------+\n",
            "|       1|         Deadpool 2 |#deadpool #marvel...|       39|    U13|  22-03-2018|          7|  8100000|  11050|    2500|\n",
            "|       2|  Tom and Jerry show|#WBKids #KidsCart...|       35|    U13|  20-11-2000|          1|300000000|1900900|   50000|\n",
            "|       3|FIFA Wold Cup 201...|#worldcup #soccer...|      113|    U18|  15-07-2018|          6| 62150000| 510000|   17000|\n",
            "|       4|Diana's Monochrom...|#influncer #makeu...|      101|    U21|  14-01-2016|          8|    58000|   1800|     360|\n",
            "|       5|           veg Pulao| #pulao #pulaorec...|      137|    U18|  22-12-2022|          4|       77|     11|       2|\n",
            "|       6|\"Cooper Alan- \"\"C...|                null|      162|    U21|  29-11-2021|          6|  2569833|  64000|    1000|\n",
            "|       7|WE WANT TO TALK A...|     SHANtell martin|       78|    U13|  14-04-2014|          9|  5711697|  44637|     159|\n",
            "|       8|The Trump Preside...|\"last week tonigh...|       19|    U13|  21-07-2012|          5|  3877447|  65971|   48738|\n",
            "|       9|Racist Superman |...|\"racist superman|...|       61|    U13|  15-09-2019|          2|  2239585|  95749|   21035|\n",
            "|      10|Nickelback Lyrics...|\"rhett and link|\"...|      188|    U13|  05-01-2013|          2|  2660382|  92485|   41623|\n",
            "|      11|I Dare You: GOING...|\"ryan|\"\"higa\"\"|\"\"...|      174|    U18|  21-07-2015|          5|  6930360|  70148|   63026|\n",
            "|      12|2 Weeks with iPho...|\"ijustine|\"\"week ...|       62|    U18|  08-04-2014|         10|  6234818|  53301|   91891|\n",
            "|      13|Roy Moore & Jeff ...|\"SNL|\"\"Saturday N...|       90|    U18|  24-12-2021|          5|  3202804|  56439|   15156|\n",
            "|      14|5 Ice Cream Gadge...|\"5 Ice Cream Gadg...|      147|    U21|  07-02-2009|          6|  1758924|  57048|   34765|\n",
            "|      15|The Greatest Show...|\"Trailer|\"\"Hugh J...|       46|    U13|  29-07-2014|          9|  8044539|  97451|   99130|\n",
            "|      16|Why the rise of t...|\"vox.com|\"\"vox\"\"|...|       14|    U13|  02-05-2010|          5|  4657093|  70896|    5616|\n",
            "|      17|Dion Lewis' 103-Y...|\"NFL|\"\"Football\"\"...|       76|    U13|  28-03-2016|          8|   742856|  84219|   87758|\n",
            "|      18|(SPOILERS) 'Shiva...|\"The Walking Dead...|      136|    U18|  27-01-2020|          2|  7819279|  41070|   49245|\n",
            "|      19|Marshmello - Bloc...|\"marshmello|\"\"blo...|      120|    U18|  17-07-2012|          8|  4301723|  71640|   58999|\n",
            "|      20|Which Countries A...|\"nowthis|\"\"nowthi...|       63|    U13|  21-11-2013|          4|  4666850|  89095|   34783|\n",
            "+--------+--------------------+--------------------+---------+-------+------------+-----------+---------+-------+--------+\n",
            "only showing top 20 rows\n",
            "\n"
          ]
        }
      ]
    },
    {
      "cell_type": "code",
      "source": [
        "df_ytcon.printSchema()"
      ],
      "metadata": {
        "colab": {
          "base_uri": "https://localhost:8080/"
        },
        "id": "nSjosTzYqvAD",
        "outputId": "d1c4f8ef-0274-4ceb-a552-e48f092729ee"
      },
      "execution_count": 127,
      "outputs": [
        {
          "output_type": "stream",
          "name": "stdout",
          "text": [
            "root\n",
            " |-- Video_id: integer (nullable = true)\n",
            " |-- Video_title: string (nullable = true)\n",
            " |-- Video_Tags: string (nullable = true)\n",
            " |-- Person_ID: integer (nullable = true)\n",
            " |-- Min_age: string (nullable = true)\n",
            " |-- Publish_date: string (nullable = true)\n",
            " |-- Category_id: integer (nullable = true)\n",
            " |-- Views: integer (nullable = true)\n",
            " |-- Likes: integer (nullable = true)\n",
            " |-- Dislikes: integer (nullable = true)\n",
            "\n"
          ]
        }
      ]
    },
    {
      "cell_type": "code",
      "source": [
        "df_person = spark.read.csv(\"Person.csv\",header=True,inferSchema=True)\n",
        "df_person.show()"
      ],
      "metadata": {
        "colab": {
          "base_uri": "https://localhost:8080/"
        },
        "id": "-qhnFRzlhlz1",
        "outputId": "68369bb3-5f45-4dac-e942-e2661a7ae374"
      },
      "execution_count": 141,
      "outputs": [
        {
          "output_type": "stream",
          "name": "stdout",
          "text": [
            "+---------+----------+------------+----------+-----------+------------+------------+--------------------+--------------------+------------+\n",
            "|Person_ID|       DOB|Initial_Name|First_Name|  Last_Name|Country_Name|Phone_number|               Email|        Account_name|Subscription|\n",
            "+---------+----------+------------+----------+-----------+------------+------------+--------------------+--------------------+------------+\n",
            "|        1|1999-03-21|          Ms|    Sakshi|      Gupta|       India|  9876532945|       sakshig@gmail|  Sakshiii Gupta9900|           Y|\n",
            "|        2|1993-04-11|          Mr|      Alan|     Cooper|         USA|240-219-0550|  CooperAlan@hotmail|             CooperA|           N|\n",
            "|        3|1990-11-08|          Mr|    Yohani|         De|   Sri Lanka|  8797321854|   yoohani@yahoo.com|         Telly Music|           Y|\n",
            "|        4|2000-04-06|         Mrs|      Otto|      Smith|     Germany|  7840096538|smithbakery@gmail...|      Smith's Bakery|           N|\n",
            "|        5|1979-08-19|         Mrs|      Wang|         Li|       India|  7781435789|    wangli@gmail.com|     Wang's Home ESL|           Y|\n",
            "|        6|1985-05-19|          Ms|     Neeru|   Srikanth|       India|  5673831214|neeskitchen@gmail...|        Nees Kitchen|           N|\n",
            "|        7|2003-07-18|         Mrs|    Shivin|    Ganesan|       India|  8769452345|   shiving@yahoo.com|          SG explore|           Y|\n",
            "|        8|1999-05-19|          Mr|    Hannah|    Pauline|         USA|956-260-4620| hannahp@hotmail.com|    Hannah's Kitchen|           N|\n",
            "|        9|1995-07-18|         Mrs|      Lora|Santhakumar|       India|  7864532103|     loras@gmail.com|      Lora's Diaries|           N|\n",
            "|       10|2001-04-13|          Mr|   Sriram | Saptarishi|       India|  9840567898|sriramsaptarishi@...|   Sriram Saptarishi|           N|\n",
            "|       11|2000-04-05|         Mrs|   Gabriel|      Lucas|         USA|707-537-9647|  lucasgab@yahoo.com|           Laurant G|           Y|\n",
            "|       12|1996-08-31|         Mrs|    Santos|      Louis|     Germany|  1776539873|  isantosl@gmail.com|Savoir Travels Th...|           N|\n",
            "|       13|1967-07-13|          Ms|     Luiza|     Codery|       Nepal|  2234669876| codreys@hotmail.com|   Makeup with Luiza|           N|\n",
            "|       14|1997-12-30|         Mrs|    Tucker|      Budzz|         USA|949-266-7542|tuckershome@gmail...|         The Budzyns|           Y|\n",
            "|       15|2004-02-14|          Ms|    Rohini|       Iyer|       India|  9987356749|rohiniiyer@gmail.com|      Iyer Creations|           Y|\n",
            "|       16|1985-03-10|         Mrs|    Chitra|     Murali|       India|  8756432090|chitramurali34@gm...|Chitra Murali's K...|           N|\n",
            "|       17|2002-03-08|          Mr|     Henry|     Victor|         USA|314-791-0249|victorhenry@gmail...|        Henry Victor|           Y|\n",
            "|       18|1981-01-01|         Mrs|     Diana|     Wilson|         USA|419-463-8122|    dianaw@gmail.com|Diana's ,Makeup J...|           N|\n",
            "|       19|1985-06-16|          Mr|      Rick|     Steves|         USA|904-868-8678|ricksteve@hotmail...|Rick Steves's Europe|           Y|\n",
            "|       20|1985-09-18|         Mrs|   Natasha|     Wilona|   Sri Lanka|  3245618906|  natashaw@gmail.com|      Natasha Wilona|           N|\n",
            "+---------+----------+------------+----------+-----------+------------+------------+--------------------+--------------------+------------+\n",
            "only showing top 20 rows\n",
            "\n"
          ]
        }
      ]
    },
    {
      "cell_type": "code",
      "source": [
        "df_person.printSchema()"
      ],
      "metadata": {
        "colab": {
          "base_uri": "https://localhost:8080/"
        },
        "id": "0aCUbdNgh8bt",
        "outputId": "83def2bb-8c78-49bd-94c5-eeccd1e8575f"
      },
      "execution_count": 142,
      "outputs": [
        {
          "output_type": "stream",
          "name": "stdout",
          "text": [
            "root\n",
            " |-- Person_ID: integer (nullable = true)\n",
            " |-- DOB: date (nullable = true)\n",
            " |-- Initial_Name: string (nullable = true)\n",
            " |-- First_Name: string (nullable = true)\n",
            " |-- Last_Name: string (nullable = true)\n",
            " |-- Country_Name: string (nullable = true)\n",
            " |-- Phone_number: string (nullable = true)\n",
            " |-- Email: string (nullable = true)\n",
            " |-- Account_name: string (nullable = true)\n",
            " |-- Subscription: string (nullable = true)\n",
            "\n"
          ]
        }
      ]
    },
    {
      "cell_type": "markdown",
      "source": [
        "Removed Special Characters on Initial Name"
      ],
      "metadata": {
        "id": "NGMHsiwxqFvg"
      }
    },
    {
      "cell_type": "code",
      "source": [
        "df_person = df_person.withColumn('Initial_Name',regexp_replace(col('Initial_Name'),\"[^0-9a-zA-Z_\\-]+\", \"\"))"
      ],
      "metadata": {
        "id": "Jc4FARmSo5VT"
      },
      "execution_count": 145,
      "outputs": []
    },
    {
      "cell_type": "markdown",
      "source": [
        "Gender Definition using Initial Name"
      ],
      "metadata": {
        "id": "1nbcbGNtqJXP"
      }
    },
    {
      "cell_type": "code",
      "source": [
        "df_person = df_person.withColumn('Gender',\n",
        "                                 when ((df_person['Initial_Name'] == 'Ms'),lit('F')).\n",
        "                                 when ((df_person['Initial_Name'] == 'Mrs'),lit('F')).\n",
        "                                 when ((df_person['Initial_Name'] == 'Mr'),lit('M')).\n",
        "                                 otherwise(lit('UK')))"
      ],
      "metadata": {
        "id": "PW0qkG7UiSjt"
      },
      "execution_count": 146,
      "outputs": []
    },
    {
      "cell_type": "markdown",
      "source": [
        "Calculating Age by subtracting DOB with current date"
      ],
      "metadata": {
        "id": "RdhhwIBrSYya"
      }
    },
    {
      "cell_type": "code",
      "source": [
        "df_person = df_person.withColumn('Age',round(months_between(current_date(),col(\"DOB\"))/lit(12),0).cast(IntegerType()))"
      ],
      "metadata": {
        "id": "36cn415ErSTS"
      },
      "execution_count": 147,
      "outputs": []
    },
    {
      "cell_type": "markdown",
      "source": [
        "Concatenating First Name and Last Name"
      ],
      "metadata": {
        "id": "wUxVz-J_SiFC"
      }
    },
    {
      "cell_type": "code",
      "source": [
        "df_person = df_person.withColumn('Person_Name',concat_ws(\" \", col('First_Name'),col('Last_Name')))"
      ],
      "metadata": {
        "id": "t7I0ol5pw3pk"
      },
      "execution_count": 148,
      "outputs": []
    },
    {
      "cell_type": "markdown",
      "source": [
        "Removing special characters in Phone Number"
      ],
      "metadata": {
        "id": "YwkZkSEvSoki"
      }
    },
    {
      "cell_type": "code",
      "source": [
        "df_person = df_person.withColumn('Phone_number',regexp_replace(col('Phone_number'),\"[^0-9]\",\"\"))"
      ],
      "metadata": {
        "id": "3TqDt3CS7YH0"
      },
      "execution_count": 149,
      "outputs": []
    },
    {
      "cell_type": "markdown",
      "source": [
        "Dropping Null Values in Country Name column"
      ],
      "metadata": {
        "id": "cj7lNQ5VxQ2Q"
      }
    },
    {
      "cell_type": "code",
      "source": [
        "df_person = df_person.na.drop(subset=['Country_Name'])"
      ],
      "metadata": {
        "id": "e-UaChFrwQ6K"
      },
      "execution_count": 150,
      "outputs": []
    },
    {
      "cell_type": "markdown",
      "source": [
        "Creating View Tables for Data Transformation for Youtuber's data\n"
      ],
      "metadata": {
        "id": "DCu9qZHmSvKq"
      }
    },
    {
      "cell_type": "code",
      "source": [
        "person = df_person.createOrReplaceTempView('df_person')\n",
        "country = df_country.createOrReplaceTempView('df_country')"
      ],
      "metadata": {
        "id": "x4lP7DKKPcRz"
      },
      "execution_count": 151,
      "outputs": []
    },
    {
      "cell_type": "markdown",
      "source": [
        "Phone Number Data Transformation by joining country and person tables"
      ],
      "metadata": {
        "id": "z0zh9RTPhpiM"
      }
    },
    {
      "cell_type": "code",
      "source": [
        "user = spark.sql(\"select Person_ID,Person_Name,Gender,Age,concat('+',c.Telephonic_code,p.Phone_number) as Phone_No, p.Country_Name from df_person p join df_country c on p.Country_Name = c.COUNTRY_NAME\")"
      ],
      "metadata": {
        "id": "SVjY0ub8P6nB"
      },
      "execution_count": 152,
      "outputs": []
    },
    {
      "cell_type": "code",
      "source": [
        "user.printSchema()"
      ],
      "metadata": {
        "colab": {
          "base_uri": "https://localhost:8080/"
        },
        "id": "dYdlNogxnrj2",
        "outputId": "5950c6dc-3ba0-4bcf-c63a-04b286afdeb6"
      },
      "execution_count": 153,
      "outputs": [
        {
          "output_type": "stream",
          "name": "stdout",
          "text": [
            "root\n",
            " |-- Person_ID: integer (nullable = true)\n",
            " |-- Person_Name: string (nullable = false)\n",
            " |-- Gender: string (nullable = false)\n",
            " |-- Age: integer (nullable = true)\n",
            " |-- Phone_No: string (nullable = true)\n",
            " |-- Country_Name: string (nullable = true)\n",
            "\n"
          ]
        }
      ]
    },
    {
      "cell_type": "code",
      "source": [
        "user.show()"
      ],
      "metadata": {
        "colab": {
          "base_uri": "https://localhost:8080/"
        },
        "id": "XOeQBdLsniqj",
        "outputId": "316b62ed-b8d8-496f-a42a-38cb7fa686b0"
      },
      "execution_count": 154,
      "outputs": [
        {
          "output_type": "stream",
          "name": "stdout",
          "text": [
            "+---------+------------------+------+---+--------------+------------+\n",
            "|Person_ID|       Person_Name|Gender|Age|      Phone_No|Country_Name|\n",
            "+---------+------------------+------+---+--------------+------------+\n",
            "|        1|      Sakshi Gupta|     F| 25| +919876532945|       India|\n",
            "|        2|       Alan Cooper|     M| 31|  +12402190550|         USA|\n",
            "|        3|         Yohani De|     M| 33| +948797321854|   Sri Lanka|\n",
            "|        4|        Otto Smith|     F| 24| +497840096538|     Germany|\n",
            "|        5|           Wang Li|     F| 45| +917781435789|       India|\n",
            "|        6|    Neeru Srikanth|     F| 39| +915673831214|       India|\n",
            "|        7|    Shivin Ganesan|     F| 21| +918769452345|       India|\n",
            "|        8|    Hannah Pauline|     M| 25|  +19562604620|         USA|\n",
            "|        9|  Lora Santhakumar|     F| 29| +917864532103|       India|\n",
            "|       10|Sriram  Saptarishi|     M| 23| +919840567898|       India|\n",
            "|       11|     Gabriel Lucas|     F| 24|  +17075379647|         USA|\n",
            "|       12|      Santos Louis|     F| 28| +491776539873|     Germany|\n",
            "|       13|      Luiza Codery|     F| 57|+9772234669876|       Nepal|\n",
            "|       14|      Tucker Budzz|     F| 26|  +19492667542|         USA|\n",
            "|       15|       Rohini Iyer|     F| 20| +919987356749|       India|\n",
            "|       16|     Chitra Murali|     F| 39| +918756432090|       India|\n",
            "|       17|      Henry Victor|     M| 22|  +13147910249|         USA|\n",
            "|       18|      Diana Wilson|     F| 43|  +14194638122|         USA|\n",
            "|       19|       Rick Steves|     M| 39|  +19048688678|         USA|\n",
            "|       20|    Natasha Wilona|     F| 39| +943245618906|   Sri Lanka|\n",
            "+---------+------------------+------+---+--------------+------------+\n",
            "only showing top 20 rows\n",
            "\n"
          ]
        }
      ]
    },
    {
      "cell_type": "markdown",
      "source": [
        "Calculating Engagement Metrics using Likes and Dislikes"
      ],
      "metadata": {
        "id": "IOn345Hwh0jg"
      }
    },
    {
      "cell_type": "code",
      "source": [
        "df_ytcon = df_ytcon.withColumn('Engagement',df_ytcon['Likes']-df_ytcon['Dislikes'])"
      ],
      "metadata": {
        "id": "9y7CrA8KiDON"
      },
      "execution_count": 155,
      "outputs": []
    },
    {
      "cell_type": "markdown",
      "source": [
        "Dropping null values"
      ],
      "metadata": {
        "id": "u1xaPLX8h_fd"
      }
    },
    {
      "cell_type": "code",
      "source": [
        "df_ytcon = df_ytcon.dropna('any')"
      ],
      "metadata": {
        "id": "Z9tJ9nC_-IoI"
      },
      "execution_count": 156,
      "outputs": []
    },
    {
      "cell_type": "markdown",
      "source": [
        "Converting the date from String to Date format"
      ],
      "metadata": {
        "id": "VTPFLq9wvltU"
      }
    },
    {
      "cell_type": "code",
      "source": [
        "df_ytcon = df_ytcon.withColumn(\"Publish_date\",to_date(col(\"Publish_date\"),\"dd-mm-yyyy\").alias(\"date\"))"
      ],
      "metadata": {
        "id": "TK4qukuRrg5m"
      },
      "execution_count": 157,
      "outputs": []
    },
    {
      "cell_type": "markdown",
      "source": [
        "Creating View tables for Data Transformation for Youtube Data"
      ],
      "metadata": {
        "id": "OhwqMNGhiGhV"
      }
    },
    {
      "cell_type": "code",
      "source": [
        "content = df_ytcon.createOrReplaceTempView('df_ytcon')\n",
        "category = df_ytcat.createOrReplaceTempView('df_ytcat')"
      ],
      "metadata": {
        "id": "5PFkXQENb7Ln"
      },
      "execution_count": 158,
      "outputs": []
    },
    {
      "cell_type": "markdown",
      "source": [
        "Youtube Data Transformation"
      ],
      "metadata": {
        "id": "TW_weMUmf95Q"
      }
    },
    {
      "cell_type": "code",
      "source": [
        "video = spark.sql(\"select Video_id, v.Person_ID, Video_title, cat.Category_Name as Category, Min_age as Age_Gate, p.Country_Name,  v.Publish_date,Engagement, Views as Total_Views, CASE WHEN Views <= 4000000 THEN 'Low' WHEN Views > 4000000 AND Views <= 8000000 THEN 'Medium' ELSE 'High' END as Trend_Level from df_ytcon v join df_person p on v.Person_ID = p.Person_ID join df_ytcat cat on v.category_ID = cat.Discription_ID\")"
      ],
      "metadata": {
        "id": "VdHdr06agKG0",
        "collapsed": true
      },
      "execution_count": 159,
      "outputs": []
    },
    {
      "cell_type": "code",
      "source": [
        "video.show(truncate=False)"
      ],
      "metadata": {
        "colab": {
          "base_uri": "https://localhost:8080/"
        },
        "id": "IVMvRGCAgRKA",
        "outputId": "8df89e0a-26e7-4652-9792-c9ae5a1bdfcc"
      },
      "execution_count": 160,
      "outputs": [
        {
          "output_type": "stream",
          "name": "stdout",
          "text": [
            "+--------+---------+--------------------------------------------------------------------------------------+-----------------------+--------+------------+------------+----------+-----------+-----------+\n",
            "|Video_id|Person_ID|Video_title                                                                           |Category               |Age_Gate|Country_Name|Publish_date|Engagement|Total_Views|Trend_Level|\n",
            "+--------+---------+--------------------------------------------------------------------------------------+-----------------------+--------+------------+------------+----------+-----------+-----------+\n",
            "|2       |35       |Tom and Jerry show                                                                    |News                   |U13     |Germany     |2000-01-20  |1850900   |300000000  |High       |\n",
            "|3       |113      |FIFA Wold Cup 2018 Highights                                                          |Funny Animals and Birds|U18     |Germany     |2018-01-15  |493000    |62150000   |High       |\n",
            "|4       |101      |Diana's Monochromatic Look                                                            |Product Review         |U21     |Sri Lanka   |2016-01-14  |1440      |58000      |Low        |\n",
            "|5       |137      |veg Pulao                                                                             |Entertainment          |U18     |India       |2022-01-22  |9         |77         |Low        |\n",
            "|7       |78       |WE WANT TO TALK ABOUT OUR MARRIAGE                                                    |Vlogs                  |U13     |Germany     |2014-01-14  |44478     |5711697    |Medium     |\n",
            "|8       |19       |The Trump Presidency: Last Week Tonight with John Oliver (HBO)                        |Fashion and Beauty     |U13     |USA         |2012-01-21  |17233     |3877447    |Low        |\n",
            "|9       |61       |Racist Superman | Rudy Mancuso, King Bach & Lele Pons                                 |Sports                 |U13     |USA         |2019-01-15  |74714     |2239585    |Low        |\n",
            "|10      |188      |Nickelback Lyrics: Real or Fake?                                                      |Sports                 |U13     |USA         |2013-01-05  |50862     |2660382    |Low        |\n",
            "|11      |174      |I Dare You: GOING BALD!?                                                              |Fashion and Beauty     |U18     |USA         |2015-01-21  |7122      |6930360    |Medium     |\n",
            "|12      |62       |2 Weeks with iPhone X                                                                 |Education              |U18     |India       |2014-01-08  |-38590    |6234818    |Medium     |\n",
            "|13      |90       |Roy Moore & Jeff Sessions Cold Open - SNL                                             |Fashion and Beauty     |U18     |Nepal       |2021-01-24  |41283     |3202804    |Low        |\n",
            "|14      |147      |5 Ice Cream Gadgets put to the Test                                                   |Funny Animals and Birds|U21     |India       |2009-01-07  |22283     |1758924    |Low        |\n",
            "|15      |46       |The Greatest Showman | Official Trailer 2 [HD] | 20th Century FOX                     |Vlogs                  |U13     |Nepal       |2014-01-29  |-1679     |8044539    |High       |\n",
            "|16      |14       |Why the rise of the robots won’t mean the end of work                                 |Fashion and Beauty     |U13     |USA         |2010-01-02  |65280     |4657093    |Medium     |\n",
            "|17      |76       |Dion Lewis' 103-Yd Kick Return TD vs. Denver! | Can't-Miss Play | NFL Wk 10 Highlights|Product Review         |U13     |India       |2016-01-28  |-3539     |742856     |Low        |\n",
            "|18      |136      |(SPOILERS) 'Shiva Saves the Day' Talked About Scene Ep. 804 | The Walking Dead        |Sports                 |U18     |USA         |2020-01-27  |-8175     |7819279    |Medium     |\n",
            "|19      |120      |Marshmello - Blocks (Official Music Video)                                            |Product Review         |U18     |India       |2012-01-17  |12641     |4301723    |Medium     |\n",
            "|20      |63       |Which Countries Are About To Collapse?                                                |Entertainment          |U13     |India       |2013-01-21  |54312     |4666850    |Medium     |\n",
            "|21      |94       |SHOPPING FOR NEW FISH!!!                                                              |Funny Animals and Birds|U13     |Sri Lanka   |2018-01-11  |36056     |9727683    |High       |\n",
            "|22      |29       |The New SpotMini                                                                      |Sports                 |U13     |India       |2018-01-27  |18077     |3530426    |Low        |\n",
            "+--------+---------+--------------------------------------------------------------------------------------+-----------------------+--------+------------+------------+----------+-----------+-----------+\n",
            "only showing top 20 rows\n",
            "\n"
          ]
        }
      ]
    },
    {
      "cell_type": "code",
      "source": [
        "video.printSchema()"
      ],
      "metadata": {
        "colab": {
          "base_uri": "https://localhost:8080/"
        },
        "id": "SuSwG72SqoA0",
        "outputId": "1ee0fc19-952f-4912-93d5-1eddefa7355a"
      },
      "execution_count": 161,
      "outputs": [
        {
          "output_type": "stream",
          "name": "stdout",
          "text": [
            "root\n",
            " |-- Video_id: integer (nullable = true)\n",
            " |-- Person_ID: integer (nullable = true)\n",
            " |-- Video_title: string (nullable = true)\n",
            " |-- Category: string (nullable = true)\n",
            " |-- Age_Gate: string (nullable = true)\n",
            " |-- Country_Name: string (nullable = true)\n",
            " |-- Publish_date: date (nullable = true)\n",
            " |-- Engagement: integer (nullable = true)\n",
            " |-- Total_Views: integer (nullable = true)\n",
            " |-- Trend_Level: string (nullable = false)\n",
            "\n"
          ]
        }
      ]
    },
    {
      "cell_type": "markdown",
      "source": [
        "## Creating View Tables for the final output data"
      ],
      "metadata": {
        "id": "c2v1RlzayqE3"
      }
    },
    {
      "cell_type": "code",
      "source": [
        "video.createOrReplaceTempView('video')\n",
        "user.createOrReplaceTempView('user')"
      ],
      "metadata": {
        "id": "r_N8Nf4WobVj"
      },
      "execution_count": 162,
      "outputs": []
    },
    {
      "cell_type": "markdown",
      "source": [
        "# Business Insights"
      ],
      "metadata": {
        "id": "hV8FturWyjsH"
      }
    },
    {
      "cell_type": "markdown",
      "source": [
        "No of videos based on Trend level"
      ],
      "metadata": {
        "id": "NKSmNAnwjtOK"
      }
    },
    {
      "cell_type": "code",
      "source": [
        "spark.sql(\"SELECT Trend_Level, count(Video_ID) as Count from video group by 1 order by 2 desc;\").show()"
      ],
      "metadata": {
        "colab": {
          "base_uri": "https://localhost:8080/"
        },
        "id": "Wvsh1N20nPbB",
        "outputId": "4a4a038c-e36a-4812-fd45-cff1b94d1013"
      },
      "execution_count": 163,
      "outputs": [
        {
          "output_type": "stream",
          "name": "stdout",
          "text": [
            "+-----------+-----+\n",
            "|Trend_Level|Count|\n",
            "+-----------+-----+\n",
            "|        Low|   59|\n",
            "|     Medium|   59|\n",
            "|       High|   30|\n",
            "+-----------+-----+\n",
            "\n"
          ]
        }
      ]
    },
    {
      "cell_type": "markdown",
      "source": [
        "No of videos based on Age_Gate"
      ],
      "metadata": {
        "id": "udy6ButCjzqG"
      }
    },
    {
      "cell_type": "code",
      "source": [
        "spark.sql(\"SELECT Age_Gate, count(Video_ID) as Count from video group by Age_Gate order by 2 desc;\").show()"
      ],
      "metadata": {
        "colab": {
          "base_uri": "https://localhost:8080/"
        },
        "id": "MVLvjbhfoHS5",
        "outputId": "f1f8cd4f-ab41-4695-83fd-623036215271"
      },
      "execution_count": 164,
      "outputs": [
        {
          "output_type": "stream",
          "name": "stdout",
          "text": [
            "+--------+-----+\n",
            "|Age_Gate|Count|\n",
            "+--------+-----+\n",
            "|     U13|   80|\n",
            "|     U18|   43|\n",
            "|     U21|   18|\n",
            "|     T21|    7|\n",
            "+--------+-----+\n",
            "\n"
          ]
        }
      ]
    },
    {
      "cell_type": "markdown",
      "source": [
        "Engagement on each category"
      ],
      "metadata": {
        "id": "uEBzt-Z9j5C-"
      }
    },
    {
      "cell_type": "code",
      "source": [
        "spark.sql(\"SELECT Category, sum(Engagement) as Total_Engagement from video group by 1 order by 2 desc;\").show()"
      ],
      "metadata": {
        "colab": {
          "base_uri": "https://localhost:8080/"
        },
        "id": "7voKXR0Zo6_o",
        "outputId": "f00b9379-8bcc-4e06-edb2-6144a21a31ab"
      },
      "execution_count": 165,
      "outputs": [
        {
          "output_type": "stream",
          "name": "stdout",
          "text": [
            "+--------------------+----------------+\n",
            "|            Category|Total_Engagement|\n",
            "+--------------------+----------------+\n",
            "|                News|         2060278|\n",
            "|Funny Animals and...|          768037|\n",
            "|  Fashion and Beauty|          426680|\n",
            "|                Kids|          350137|\n",
            "|            Gameplay|          310155|\n",
            "|              Sports|          243551|\n",
            "|               Vlogs|          203234|\n",
            "|           Education|          125834|\n",
            "|      Entertainment |          124742|\n",
            "|      Product Review|           88420|\n",
            "+--------------------+----------------+\n",
            "\n"
          ]
        }
      ]
    },
    {
      "cell_type": "markdown",
      "source": [
        "Top 10 Youtubers posted the highest no of videos"
      ],
      "metadata": {
        "id": "x9ZiUJPVqrz1"
      }
    },
    {
      "cell_type": "code",
      "source": [
        "spark.sql(\"SELECT u.Person_ID, u.Person_Name, count(v.Video_title) as Count from video v join user u on v.Person_ID = u.Person_ID group by 1,2 order by 3 desc limit 10\").show()"
      ],
      "metadata": {
        "colab": {
          "base_uri": "https://localhost:8080/"
        },
        "id": "lXfaDkespuHb",
        "outputId": "844f7d5a-dcda-436e-9c40-55b65817684c"
      },
      "execution_count": 166,
      "outputs": [
        {
          "output_type": "stream",
          "name": "stdout",
          "text": [
            "+---------+----------------+-----+\n",
            "|Person_ID|     Person_Name|Count|\n",
            "+---------+----------------+-----+\n",
            "|      188|  Victor Cecilia|    4|\n",
            "|      195| Fernando Kaylee|    4|\n",
            "|       99|Griffin Arabella|    4|\n",
            "|      148|  Messiah Xander|    3|\n",
            "|       78| Alexandra Amaya|    3|\n",
            "|       88|    Sage Brynlee|    3|\n",
            "|      178|Crisp William E.|    3|\n",
            "|       80|  Jasmine Elango|    3|\n",
            "|       62|    Karan Vathan|    3|\n",
            "|       63|     Zara Zhahir|    3|\n",
            "+---------+----------------+-----+\n",
            "\n"
          ]
        }
      ]
    },
    {
      "cell_type": "markdown",
      "source": [
        "No of videos posted from each Country"
      ],
      "metadata": {
        "id": "YZAXZcCirQYN"
      }
    },
    {
      "cell_type": "code",
      "source": [
        "spark.sql(\"SELECT u.Country_Name, count(v.Video_title) from video v join user u on v.Person_ID = u.Person_ID group by 1 order by 2 desc\").show()"
      ],
      "metadata": {
        "colab": {
          "base_uri": "https://localhost:8080/"
        },
        "id": "F2NdKGPvq73b",
        "outputId": "f1aaf245-408f-4ff2-c71b-c9370cb15da2"
      },
      "execution_count": 167,
      "outputs": [
        {
          "output_type": "stream",
          "name": "stdout",
          "text": [
            "+------------+------------------+\n",
            "|Country_Name|count(Video_title)|\n",
            "+------------+------------------+\n",
            "|         USA|                49|\n",
            "|       India|                45|\n",
            "|     Germany|                33|\n",
            "|   Sri Lanka|                13|\n",
            "|       Nepal|                 8|\n",
            "+------------+------------------+\n",
            "\n"
          ]
        }
      ]
    },
    {
      "cell_type": "markdown",
      "source": [
        "Average Views Per Day based on Publish date"
      ],
      "metadata": {
        "id": "0zQUfAeDyYon"
      }
    },
    {
      "cell_type": "code",
      "source": [
        "spark.sql(\"SELECT Publish_date, CASE WHEN datediff(current_date(), v.Publish_date) = 0 THEN v.Total_Views ELSE round(v.Total_Views / (DATEDIFF(CURRENT_DATE, v.Publish_date) + 1),2) END AS average_views_per_day from video v join user u on v.Person_ID = u.Person_ID order by 2 desc\").show()"
      ],
      "metadata": {
        "id": "3NH5DELkrOTE",
        "colab": {
          "base_uri": "https://localhost:8080/"
        },
        "outputId": "5ba74078-77bc-4dc4-9aaf-92bbc61a7c26"
      },
      "execution_count": 168,
      "outputs": [
        {
          "output_type": "stream",
          "name": "stdout",
          "text": [
            "+------------+---------------------+\n",
            "|Publish_date|average_views_per_day|\n",
            "+------------+---------------------+\n",
            "|  2000-01-20|             33978.93|\n",
            "|  2018-01-15|             27512.17|\n",
            "|  2022-01-14|             12131.53|\n",
            "|  2021-01-05|              8332.42|\n",
            "|  2021-01-21|              6546.85|\n",
            "|  2022-01-05|              6209.92|\n",
            "|  2020-01-24|              6199.54|\n",
            "|  2022-01-05|              5621.49|\n",
            "|  2022-01-19|               5375.3|\n",
            "|  2020-01-27|              5154.44|\n",
            "|  2020-01-09|               4764.6|\n",
            "|  2021-01-31|              4644.52|\n",
            "|  2019-01-10|              4374.15|\n",
            "|  2019-01-24|              4334.34|\n",
            "|  2018-01-11|              4298.58|\n",
            "|  2018-01-23|              3970.85|\n",
            "|  2019-01-05|              3904.39|\n",
            "|  2018-01-14|              3902.06|\n",
            "|  2020-01-17|              3898.99|\n",
            "|  2022-01-28|              3753.05|\n",
            "+------------+---------------------+\n",
            "only showing top 20 rows\n",
            "\n"
          ]
        }
      ]
    },
    {
      "cell_type": "code",
      "source": [],
      "metadata": {
        "id": "Tv1xdH78kfsf"
      },
      "execution_count": 168,
      "outputs": []
    }
  ]
}